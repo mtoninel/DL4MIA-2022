{
 "cells": [
  {
   "cell_type": "markdown",
   "id": "bcb77672",
   "metadata": {},
   "source": [
    "# Introduction to Machine Learning and Deep Learning\n",
    "\n",
    "### Acknowledgements\n",
    "\n",
    "The content of this notebook was originally created by Nils Eckstein, Julia Buhmann, and Jan Funke for the 2021 DL@MBL course in Woods Hole, and later chopped up and modified by Florian Jug and Igor Zubarev for the 2022 course DL4MIA.\n",
    "\n",
    "Some code cells will be marked with\n",
    "\n",
    "########################################################################### <br>\n",
    "#######                     FIND WAYS TO IMPROVE                    ####### <br>\n",
    "########################################################################### <br>\n",
    "\n",
    "or \n",
    "\n",
    "########################################################################### <br>\n",
    "#######                      START OF YOUR CODE                     ####### <br>\n",
    "########################################################################### <br>\n",
    "\n",
    "... <br>\n",
    "\n",
    "########################################################################### <br>\n",
    "#######                       END OF YOUR CODE                      ####### <br>\n",
    "########################################################################### <br>\n",
    "\n",
    "This indicates that you need to find a possible errors in the code or in the function parameters. Or add some code..."
   ]
  },
  {
   "cell_type": "code",
   "execution_count": 1,
   "id": "b7d3fdb8",
   "metadata": {},
   "outputs": [],
   "source": [
    "# This cell should also be run for the super bonus exercise\n",
    "\n",
    "import numpy as np\n",
    "import matplotlib.pyplot as plt\n",
    "\n",
    "from tensorflow.keras.models import Sequential\n",
    "from tensorflow.keras.layers import Flatten, Conv2D, MaxPooling2D, Dense"
   ]
  },
  {
   "cell_type": "markdown",
   "id": "443a7103",
   "metadata": {},
   "source": [
    "### Let's get the MNIST data...\n",
    "\n",
    "This is one of the most famous and most frequently used datasets of small images of hand-written digits and their corresponding ground-truth classes.\n",
    "\n",
    "In this exercise we will learn to predict the correct class given an image of a hand-written digit."
   ]
  },
  {
   "cell_type": "code",
   "execution_count": 2,
   "id": "d1b50be8",
   "metadata": {},
   "outputs": [
    {
     "data": {
      "image/png": "[encoded data removed]",
      "text/plain": [
       "<Figure size 432x288 with 4 Axes>"
      ]
     },
     "metadata": {
      "needs_background": "light"
     },
     "output_type": "display_data"
    }
   ],
   "source": [
    "# This cell should also be run for the super bonus exercise \n",
    "\n",
    "from tensorflow.keras.datasets import mnist\n",
    "\n",
    "(x_train, y_train), (x_test, y_test) = mnist.load_data()\n",
    "\n",
    "\"\"\"\n",
    "Returns:\n",
    "2 tuples:\n",
    "\n",
    "x_train, x_test: uint8 array of grayscale image data with shape (num_samples, 28, 28).\n",
    "y_train, y_test: uint8 array of digit labels (integers in range 0-9) with shape (num_samples,).\n",
    "\"\"\"\n",
    "\n",
    "# Show example data\n",
    "plt.subplot(1,4,1)\n",
    "plt.imshow(x_train[0], cmap=plt.get_cmap('gray'))\n",
    "plt.subplot(1,4,2)\n",
    "plt.imshow(x_train[1], cmap=plt.get_cmap('gray'))\n",
    "plt.subplot(1,4,3)\n",
    "plt.imshow(x_train[2], cmap=plt.get_cmap('gray'))\n",
    "plt.subplot(1,4,4)\n",
    "plt.imshow(x_train[3], cmap=plt.get_cmap('gray'))\n",
    "plt.show()"
   ]
  },
  {
   "cell_type": "markdown",
   "id": "7641fda5",
   "metadata": {},
   "source": [
    "### Bring data in the shape we need during training...\n",
    "\n",
    "In particular, this cell performs the following:\n",
    " * add a channel dimension to train and test data\n",
    " * normalize the pixel intensities to [0,1]\n",
    " * transform the ground-truth label from a digit (0, ..., 9) to one-hot encoded vectors. (Example: the one-hot encoded vector for digit `3` will become `0001000000`, etc.)"
   ]
  },
  {
   "cell_type": "code",
   "execution_count": 3,
   "id": "85474b4a",
   "metadata": {},
   "outputs": [
    {
     "name": "stdout",
     "output_type": "stream",
     "text": [
      "Train data shape (60000, 28, 28, 1)\n",
      "Test data shape (10000, 28, 28, 1)\n"
     ]
    }
   ],
   "source": [
    "# This cell should also be run for the super bonus exercise \n",
    "\n",
    "from tensorflow.keras.utils import to_categorical\n",
    "\n",
    "# add a channel dimension to the images\n",
    "x_train = x_train.reshape(x_train.shape[0],\n",
    "                          x_train.shape[1],\n",
    "                          x_train.shape[2],\n",
    "                          1)\n",
    "x_test = x_test.reshape(x_test.shape[0],\n",
    "                        x_test.shape[1],\n",
    "                        x_test.shape[2],\n",
    "                        1)\n",
    "\n",
    "# rescale intensities to be between 0 and 1\n",
    "x_train = x_train.astype('float32')\n",
    "x_test = x_test.astype('float32')\n",
    "x_train /= 255 \n",
    "x_test /= 255\n",
    "\n",
    "# convert the labels into one-hot encodings\n",
    "y_train_onehot = to_categorical(y_train, 10)\n",
    "y_test_onehot = to_categorical(y_test, 10)\n",
    "\n",
    "print('Train data shape', x_train.shape)\n",
    "print('Test data shape', x_test.shape)"
   ]
  },
  {
   "cell_type": "markdown",
   "id": "0f165cd6",
   "metadata": {},
   "source": [
    "### Let's create a network we'd like to train...\n",
    "\n",
    "The one currently implemented in the cell below will turn out to not work so well. Run it anyways, but then come back here and start playing with changing the network architecture and hopefully find a better working model for the task at hand!"
   ]
  },
  {
   "cell_type": "code",
   "execution_count": 4,
   "id": "2a2c0f86",
   "metadata": {},
   "outputs": [
    {
     "name": "stdout",
     "output_type": "stream",
     "text": [
      "Model: \"sequential\"\n",
      "_________________________________________________________________\n",
      " Layer (type)                Output Shape              Param #   \n",
      "=================================================================\n",
      " conv2d (Conv2D)             (None, 26, 26, 1)         10        \n",
      "                                                                 \n",
      " max_pooling2d (MaxPooling2D  (None, 13, 13, 1)        0         \n",
      " )                                                               \n",
      "                                                                 \n",
      " conv2d_1 (Conv2D)           (None, 11, 11, 5)         50        \n",
      "                                                                 \n",
      " max_pooling2d_1 (MaxPooling  (None, 5, 5, 5)          0         \n",
      " 2D)                                                             \n",
      "                                                                 \n",
      " flatten (Flatten)           (None, 125)               0         \n",
      "                                                                 \n",
      " dense (Dense)               (None, 64)                8064      \n",
      "                                                                 \n",
      " dense_1 (Dense)             (None, 10)                650       \n",
      "                                                                 \n",
      "=================================================================\n",
      "Total params: 8,774\n",
      "Trainable params: 8,774\n",
      "Non-trainable params: 0\n",
      "_________________________________________________________________\n"
     ]
    },
    {
     "name": "stderr",
     "output_type": "stream",
     "text": [
      "2022-07-18 20:37:59.821997: I tensorflow/stream_executor/cuda/cuda_gpu_executor.cc:975] successful NUMA node read from SysFS had negative value (-1), but there must be at least one NUMA node, so returning NUMA node zero\n",
      "2022-07-18 20:37:59.826365: W tensorflow/stream_executor/platform/default/dso_loader.cc:64] Could not load dynamic library 'libcudnn.so.8'; dlerror: libcudnn.so.8: cannot open shared object file: No such file or directory\n",
      "2022-07-18 20:37:59.826377: W tensorflow/core/common_runtime/gpu/gpu_device.cc:1850] Cannot dlopen some GPU libraries. Please make sure the missing libraries mentioned above are installed properly if you would like to use GPU. Follow the guide at https://www.tensorflow.org/install/gpu for how to download and setup the required libraries for your platform.\n",
      "Skipping registering GPU devices...\n",
      "2022-07-18 20:37:59.826766: I tensorflow/core/platform/cpu_feature_guard.cc:193] This TensorFlow binary is optimized with oneAPI Deep Neural Network Library (oneDNN) to use the following CPU instructions in performance-critical operations:  AVX2 FMA\n",
      "To enable them in other operations, rebuild TensorFlow with the appropriate compiler flags.\n"
     ]
    }
   ],
   "source": [
    "input_shape = (x_train.shape[1], x_train.shape[2], 1)\n",
    "\n",
    "###########################################################################\n",
    "#######                    FIND WAYS TO IMPROVE                     #######\n",
    "###########################################################################\n",
    "\n",
    "# Structure\n",
    "# Convolution-MaxPooling-Convolution-MaxPooling-Flatten-Dense(x2)\n",
    "\n",
    "cnn_model = Sequential()\n",
    "cnn_model.add(Conv2D(filters=1,\n",
    "                     kernel_size=(3,3),\n",
    "                     activation='relu',\n",
    "                     input_shape=input_shape))\n",
    "cnn_model.add(MaxPooling2D(pool_size=(2, 2)))\n",
    "cnn_model.add(Conv2D(filters=5, # only one filter? (answers to question of whether filters are arbitrarily chosen)\n",
    "                     kernel_size=(3, 3),\n",
    "                     activation='relu'))\n",
    "cnn_model.add(MaxPooling2D(pool_size=(2, 2)))\n",
    "cnn_model.add(Flatten())\n",
    "cnn_model.add(Dense(64, activation='relu'))\n",
    "cnn_model.add(Dense(10, activation='softmax')) # softmax for classification ?\n",
    "\n",
    "cnn_model.compile(loss='categorical_crossentropy',\n",
    "                  optimizer='adam', # adaptive optimizer (still similar to SGD)\n",
    "                  metrics=['accuracy'])\n",
    "\n",
    "cnn_model.summary()"
   ]
  },
  {
   "cell_type": "markdown",
   "id": "3967df6f",
   "metadata": {},
   "source": [
    "### Train the network...\n",
    "\n",
    "Note that we decided on some things like the number of epochs, or a batch_size... what is all this? Could we have chosen other values? What would change?"
   ]
  },
  {
   "cell_type": "code",
   "execution_count": 5,
   "id": "d4df54e9",
   "metadata": {},
   "outputs": [
    {
     "name": "stdout",
     "output_type": "stream",
     "text": [
      "Epoch 1/3\n",
      "938/938 [==============================] - 5s 5ms/step - loss: 0.3844 - accuracy: 0.8895 - val_loss: 0.1610 - val_accuracy: 0.9511\n",
      "Epoch 2/3\n",
      "938/938 [==============================] - 4s 5ms/step - loss: 0.1448 - accuracy: 0.9558 - val_loss: 0.1145 - val_accuracy: 0.9632\n",
      "Epoch 3/3\n",
      "938/938 [==============================] - 4s 5ms/step - loss: 0.1161 - accuracy: 0.9639 - val_loss: 0.0948 - val_accuracy: 0.9719\n"
     ]
    },
    {
     "data": {
      "text/plain": [
       "<keras.callbacks.History at 0x7fc0ded79518>"
      ]
     },
     "execution_count": 5,
     "metadata": {},
     "output_type": "execute_result"
    }
   ],
   "source": [
    "cnn_model.fit(x_train,\n",
    "             y_train_onehot,\n",
    "             batch_size=64,\n",
    "             epochs=3,\n",
    "             verbose=1,\n",
    "             validation_data=(x_test, y_test_onehot)) # never actually validate using test data!"
   ]
  },
  {
   "cell_type": "code",
   "execution_count": 6,
   "id": "e7339802",
   "metadata": {},
   "outputs": [
    {
     "name": "stdout",
     "output_type": "stream",
     "text": [
      "MNIST test set accuracy: 0.9718999862670898\n",
      "CNN predictions: 7, 2, 1, 0\n"
     ]
    },
    {
     "data": {
      "image/png": "[encoded data removed]",
      "text/plain": [
       "<Figure size 432x288 with 4 Axes>"
      ]
     },
     "metadata": {
      "needs_background": "light"
     },
     "output_type": "display_data"
    }
   ],
   "source": [
    "score = cnn_model.evaluate(x_test, y_test_onehot, verbose=0)\n",
    "print('MNIST test set accuracy:', score[1])\n",
    "\n",
    "# visualize some test data and network output\n",
    "y_predict = cnn_model.predict(x_test, verbose=0)\n",
    "y_predict_digits = [np.argmax(y_predict[i]) for i in range(y_predict.shape[0])]\n",
    "\n",
    "\n",
    "plt.subplot(1,4,1)\n",
    "plt.imshow(x_test[0,:,:,0], cmap=plt.get_cmap('gray'))\n",
    "plt.title(\"Pred.: %d\"%y_predict_digits[0])\n",
    "plt.subplot(1,4,2)\n",
    "plt.imshow(x_test[1,:,:,0], cmap=plt.get_cmap('gray'))\n",
    "plt.title(\"Pred.: %d\"%y_predict_digits[1])\n",
    "plt.subplot(1,4,3)\n",
    "plt.imshow(x_test[2,:,:,0], cmap=plt.get_cmap('gray'))\n",
    "plt.title(\"Pred.: %d\"%y_predict_digits[2])\n",
    "plt.subplot(1,4,4)\n",
    "plt.imshow(x_test[3,:,:,0], cmap=plt.get_cmap('gray'))\n",
    "plt.title(\"Pred.: %d\"%y_predict_digits[3])\n",
    "\n",
    "print(\"CNN predictions: {0}, {1}, {2}, {3}\".format(y_predict_digits[0],\n",
    "                                                   y_predict_digits[1],\n",
    "                                                   y_predict_digits[2],\n",
    "                                                   y_predict_digits[3]))"
   ]
  },
  {
   "cell_type": "markdown",
   "id": "b4a5570b",
   "metadata": {},
   "source": [
    "### Show a few more examples, so we also see some of the errors..."
   ]
  },
  {
   "cell_type": "code",
   "execution_count": 7,
   "id": "d4419fc1",
   "metadata": {},
   "outputs": [
    {
     "name": "stdout",
     "output_type": "stream",
     "text": [
      "Errors: 2\n"
     ]
    },
    {
     "data": {
      "image/png": "[encoded data removed]",
      "text/plain": [
       "<Figure size 1440x1080 with 40 Axes>"
      ]
     },
     "metadata": {
      "needs_background": "light"
     },
     "output_type": "display_data"
    }
   ],
   "source": [
    "fig, axes = plt.subplots(5, 8, figsize=(20,15))\n",
    "errors=0\n",
    "for i in range(40):\n",
    "    if y_predict_digits[i]==y_test[i]:\n",
    "        axes.flatten()[i].imshow(x_test[i,:,:,0], cmap=plt.get_cmap('gray'))\n",
    "        axes.flatten()[i].set_title('ok')\n",
    "    else:\n",
    "        axes.flatten()[i].imshow(x_test[i,:,:,0], cmap=plt.get_cmap('Reds'))\n",
    "        axes.flatten()[i].set_title('PREDICTION: %s'%(y_predict_digits[i]))\n",
    "        errors+=1\n",
    "        \n",
    "print(\"Errors: %d\"%errors)"
   ]
  },
  {
   "cell_type": "markdown",
   "id": "340f0e8c",
   "metadata": {},
   "source": [
    "### NEXT: improve the network, maybe also the network training, and reduce the test errors...\n",
    "\n",
    "Another fun exercise might be to try to find the smallest network (fewest trainable parameters) that still leads to an test error smaller 15%...\n",
    "\n",
    "**Note:** You will find out that if you modify the network, TensorFlow might hick up... likely you want to restart the kernel every time you make changes to the network..."
   ]
  },
  {
   "cell_type": "markdown",
   "id": "fe22873d",
   "metadata": {},
   "source": [
    "# Super bonus: A sneak peek into a different world\n",
    "\n",
    "Let's try to replicate the same model in PyTorch! We'll use the same MNIST dataset. But first we need to install torch...\n",
    "\n",
    "***IMPORTANT*** We might be out of memory because TensorFlow reserves all available memory. So we need to restart the kernel and run only cells 2 and 3, where we download the MNIST data and reshape it:\n",
    "\n",
    "1 - Click on kernel > Restart\n",
    "\n",
    "2 - Run the cells that start with the comment `# This cell should also be run for the super bonus exercise` (these are cells 1, 2 and 3 from this notebook)\n",
    "\n",
    "3 - Continue the exercises from here"
   ]
  },
  {
   "cell_type": "code",
   "execution_count": 4,
   "id": "c90bd51c",
   "metadata": {},
   "outputs": [
    {
     "name": "stdout",
     "output_type": "stream",
     "text": [
      "Collecting package metadata (current_repodata.json): done\n",
      "Solving environment: done\n",
      "\n",
      "\n",
      "==> WARNING: A newer version of conda exists. <==\n",
      "  current version: 4.12.0\n",
      "  latest version: 4.13.0\n",
      "\n",
      "Please update conda by running\n",
      "\n",
      "    $ conda update -n base -c defaults conda\n",
      "\n",
      "\n",
      "\n",
      "## Package Plan ##\n",
      "\n",
      "  environment location: /home/mattia.toninelli/miniconda3/envs/intro_mldl\n",
      "\n",
      "  added / updated specs:\n",
      "    - cudatoolkit=11.3\n",
      "    - pytorch\n",
      "    - torchvision\n",
      "\n",
      "\n",
      "The following packages will be downloaded:\n",
      "\n",
      "    package                    |            build\n",
      "    ---------------------------|-----------------\n",
      "    brotlipy-0.7.0             |py37h27cfd23_1003         320 KB\n",
      "    bzip2-1.0.8                |       h7b6447c_0          78 KB\n",
      "    cryptography-37.0.1        |   py37h9ce1e76_0         1.3 MB\n",
      "    ffmpeg-4.3                 |       hf484d3e_0         9.9 MB  pytorch\n",
      "    freetype-2.11.0            |       h70c0345_0         618 KB\n",
      "    giflib-5.2.1               |       h7b6447c_0          78 KB\n",
      "    gmp-6.2.1                  |       h295c915_3         544 KB\n",
      "    gnutls-3.6.15              |       he1e5248_0         1.0 MB\n",
      "    jpeg-9e                    |       h7f8727e_0         240 KB\n",
      "    lame-3.100                 |       h7b6447c_0         323 KB\n",
      "    lcms2-2.12                 |       h3be6417_0         312 KB\n",
      "    libiconv-1.16              |       h7f8727e_2         736 KB\n",
      "    libidn2-2.3.2              |       h7f8727e_0          81 KB\n",
      "    libpng-1.6.37              |       hbc83047_0         278 KB\n",
      "    libtasn1-4.16.0            |       h27cfd23_0          58 KB\n",
      "    libtiff-4.2.0              |       h2818925_1         452 KB\n",
      "    libunistring-0.9.10        |       h27cfd23_0         536 KB\n",
      "    libwebp-1.2.2              |       h55f646e_0          80 KB\n",
      "    libwebp-base-1.2.2         |       h7f8727e_0         440 KB\n",
      "    lz4-c-1.9.3                |       h295c915_1         185 KB\n",
      "    nettle-3.7.3               |       hbbd107a_1         809 KB\n",
      "    openh264-2.1.1             |       h4ff587b_0         711 KB\n",
      "    pillow-9.2.0               |   py37hace64e9_1         664 KB\n",
      "    pysocks-1.7.1              |           py37_1          27 KB\n",
      "    pytorch-1.12.0             |py3.7_cuda11.3_cudnn8.3.2_0        1.19 GB  pytorch\n",
      "    pytorch-mutex-1.0          |             cuda           3 KB  pytorch\n",
      "    requests-2.28.1            |   py37h06a4308_0          92 KB\n",
      "    torchvision-0.13.0         |       py37_cu113        28.6 MB  pytorch\n",
      "    urllib3-1.26.9             |   py37h06a4308_0         180 KB\n",
      "    zstd-1.5.2                 |       ha4553b6_0         488 KB\n",
      "    ------------------------------------------------------------\n",
      "                                           Total:        1.24 GB\n",
      "\n",
      "The following NEW packages will be INSTALLED:\n",
      "\n",
      "  brotlipy           pkgs/main/linux-64::brotlipy-0.7.0-py37h27cfd23_1003\n",
      "  bzip2              pkgs/main/linux-64::bzip2-1.0.8-h7b6447c_0\n",
      "  charset-normalizer pkgs/main/noarch::charset-normalizer-2.0.4-pyhd3eb1b0_0\n",
      "  cryptography       pkgs/main/linux-64::cryptography-37.0.1-py37h9ce1e76_0\n",
      "  ffmpeg             pytorch/linux-64::ffmpeg-4.3-hf484d3e_0\n",
      "  freetype           pkgs/main/linux-64::freetype-2.11.0-h70c0345_0\n",
      "  giflib             pkgs/main/linux-64::giflib-5.2.1-h7b6447c_0\n",
      "  gmp                pkgs/main/linux-64::gmp-6.2.1-h295c915_3\n",
      "  gnutls             pkgs/main/linux-64::gnutls-3.6.15-he1e5248_0\n",
      "  idna               pkgs/main/noarch::idna-3.3-pyhd3eb1b0_0\n",
      "  jpeg               pkgs/main/linux-64::jpeg-9e-h7f8727e_0\n",
      "  lame               pkgs/main/linux-64::lame-3.100-h7b6447c_0\n",
      "  lcms2              pkgs/main/linux-64::lcms2-2.12-h3be6417_0\n",
      "  libiconv           pkgs/main/linux-64::libiconv-1.16-h7f8727e_2\n",
      "  libidn2            pkgs/main/linux-64::libidn2-2.3.2-h7f8727e_0\n",
      "  libpng             pkgs/main/linux-64::libpng-1.6.37-hbc83047_0\n",
      "  libtasn1           pkgs/main/linux-64::libtasn1-4.16.0-h27cfd23_0\n",
      "  libtiff            pkgs/main/linux-64::libtiff-4.2.0-h2818925_1\n",
      "  libunistring       pkgs/main/linux-64::libunistring-0.9.10-h27cfd23_0\n",
      "  libwebp            pkgs/main/linux-64::libwebp-1.2.2-h55f646e_0\n",
      "  libwebp-base       pkgs/main/linux-64::libwebp-base-1.2.2-h7f8727e_0\n",
      "  lz4-c              pkgs/main/linux-64::lz4-c-1.9.3-h295c915_1\n",
      "  nettle             pkgs/main/linux-64::nettle-3.7.3-hbbd107a_1\n",
      "  openh264           pkgs/main/linux-64::openh264-2.1.1-h4ff587b_0\n",
      "  pillow             pkgs/main/linux-64::pillow-9.2.0-py37hace64e9_1\n",
      "  pyopenssl          pkgs/main/noarch::pyopenssl-22.0.0-pyhd3eb1b0_0\n",
      "  pysocks            pkgs/main/linux-64::pysocks-1.7.1-py37_1\n",
      "  pytorch            pytorch/linux-64::pytorch-1.12.0-py3.7_cuda11.3_cudnn8.3.2_0\n",
      "  pytorch-mutex      pytorch/noarch::pytorch-mutex-1.0-cuda\n",
      "  requests           pkgs/main/linux-64::requests-2.28.1-py37h06a4308_0\n",
      "  torchvision        pytorch/linux-64::torchvision-0.13.0-py37_cu113\n",
      "  urllib3            pkgs/main/linux-64::urllib3-1.26.9-py37h06a4308_0\n",
      "  zstd               pkgs/main/linux-64::zstd-1.5.2-ha4553b6_0\n",
      "\n",
      "\n",
      "\n",
      "Downloading and Extracting Packages\n",
      "libiconv-1.16        | 736 KB    | ##################################### | 100% \n",
      "pytorch-mutex-1.0    | 3 KB      | ##################################### | 100% \n",
      "brotlipy-0.7.0       | 320 KB    | ##################################### | 100% \n",
      "torchvision-0.13.0   | 28.6 MB   | ##################################### | 100% \n",
      "jpeg-9e              | 240 KB    | ##################################### | 100% \n",
      "libidn2-2.3.2        | 81 KB     | ##################################### | 100% \n",
      "giflib-5.2.1         | 78 KB     | ##################################### | 100% \n",
      "libunistring-0.9.10  | 536 KB    | ##################################### | 100% \n",
      "freetype-2.11.0      | 618 KB    | ##################################### | 100% \n",
      "gmp-6.2.1            | 544 KB    | ##################################### | 100% \n",
      "libwebp-base-1.2.2   | 440 KB    | ##################################### | 100% \n",
      "lz4-c-1.9.3          | 185 KB    | ##################################### | 100% \n",
      "lcms2-2.12           | 312 KB    | ##################################### | 100% \n",
      "openh264-2.1.1       | 711 KB    | ##################################### | 100% \n",
      "libtasn1-4.16.0      | 58 KB     | ##################################### | 100% \n",
      "urllib3-1.26.9       | 180 KB    | ##################################### | 100% \n",
      "nettle-3.7.3         | 809 KB    | ##################################### | 100% \n",
      "libwebp-1.2.2        | 80 KB     | ##################################### | 100% \n",
      "zstd-1.5.2           | 488 KB    | ##################################### | 100% \n",
      "pillow-9.2.0         | 664 KB    | ##################################### | 100% \n",
      "libpng-1.6.37        | 278 KB    | ##################################### | 100% \n",
      "cryptography-37.0.1  | 1.3 MB    | ##################################### | 100% \n",
      "pytorch-1.12.0       | 1.19 GB   | ##################################### | 100% \n",
      "bzip2-1.0.8          | 78 KB     | ##################################### | 100% \n",
      "gnutls-3.6.15        | 1.0 MB    | ##################################### | 100% \n",
      "pysocks-1.7.1        | 27 KB     | ##################################### | 100% \n",
      "lame-3.100           | 323 KB    | ##################################### | 100% \n",
      "requests-2.28.1      | 92 KB     | ##################################### | 100% \n",
      "ffmpeg-4.3           | 9.9 MB    | ##################################### | 100% \n",
      "libtiff-4.2.0        | 452 KB    | ##################################### | 100% \n",
      "Preparing transaction: done\n",
      "Verifying transaction: done\n",
      "Executing transaction: done\n",
      "Collecting torchsummary\n",
      "  Downloading torchsummary-1.5.1-py3-none-any.whl (2.8 kB)\n",
      "Installing collected packages: torchsummary\n",
      "Successfully installed torchsummary-1.5.1\n"
     ]
    }
   ],
   "source": [
    "!conda install -y pytorch torchvision cudatoolkit=11.3 -c pytorch\n",
    "!pip install torchsummary"
   ]
  },
  {
   "cell_type": "code",
   "execution_count": 4,
   "id": "c7aa81cc",
   "metadata": {},
   "outputs": [
    {
     "ename": "ImportError",
     "evalue": "/home/mattia.toninelli/miniconda3/envs/intro_mldl/lib/python3.7/site-packages/torch/lib/libtorch_cuda_cpp.so: undefined symbol: cudaGraphRetainUserObject, version libcudart.so.11.0",
     "output_type": "error",
     "traceback": [
      "\u001b[0;31m---------------------------------------------------------------------------\u001b[0m",
      "\u001b[0;31mImportError\u001b[0m                               Traceback (most recent call last)",
      "\u001b[0;32m/tmp/ipykernel_24196/401656588.py\u001b[0m in \u001b[0;36m<module>\u001b[0;34m\u001b[0m\n\u001b[1;32m      1\u001b[0m \u001b[0;31m# Test if GPU is available in torch. We may need to run this part on CPU because of hardware incompability\u001b[0m\u001b[0;34m\u001b[0m\u001b[0;34m\u001b[0m\u001b[0m\n\u001b[0;32m----> 2\u001b[0;31m \u001b[0;32mimport\u001b[0m \u001b[0mtorch\u001b[0m\u001b[0;34m\u001b[0m\u001b[0m\n\u001b[0m\u001b[1;32m      3\u001b[0m \u001b[0mprint\u001b[0m\u001b[0;34m(\u001b[0m\u001b[0;34m'CUDA available: '\u001b[0m\u001b[0;34m,\u001b[0m \u001b[0mtorch\u001b[0m\u001b[0;34m.\u001b[0m\u001b[0mcuda\u001b[0m\u001b[0;34m.\u001b[0m\u001b[0mis_available\u001b[0m\u001b[0;34m(\u001b[0m\u001b[0;34m)\u001b[0m\u001b[0;34m)\u001b[0m\u001b[0;34m\u001b[0m\u001b[0m\n\u001b[1;32m      4\u001b[0m \u001b[0mprint\u001b[0m\u001b[0;34m(\u001b[0m\u001b[0;34m'PyTorch version: '\u001b[0m\u001b[0;34m,\u001b[0m \u001b[0mtorch\u001b[0m\u001b[0;34m.\u001b[0m\u001b[0m__version__\u001b[0m\u001b[0;34m)\u001b[0m\u001b[0;34m\u001b[0m\u001b[0m\n\u001b[1;32m      5\u001b[0m \u001b[0;34m\u001b[0m\u001b[0m\n",
      "\u001b[0;32m~/miniconda3/envs/intro_mldl/lib/python3.7/site-packages/torch/__init__.py\u001b[0m in \u001b[0;36m<module>\u001b[0;34m\u001b[0m\n\u001b[1;32m    200\u001b[0m     \u001b[0;32mif\u001b[0m \u001b[0mUSE_GLOBAL_DEPS\u001b[0m\u001b[0;34m:\u001b[0m\u001b[0;34m\u001b[0m\u001b[0m\n\u001b[1;32m    201\u001b[0m         \u001b[0m_load_global_deps\u001b[0m\u001b[0;34m(\u001b[0m\u001b[0;34m)\u001b[0m\u001b[0;34m\u001b[0m\u001b[0m\n\u001b[0;32m--> 202\u001b[0;31m     \u001b[0;32mfrom\u001b[0m \u001b[0mtorch\u001b[0m\u001b[0;34m.\u001b[0m\u001b[0m_C\u001b[0m \u001b[0;32mimport\u001b[0m \u001b[0;34m*\u001b[0m  \u001b[0;31m# noqa: F403\u001b[0m\u001b[0;34m\u001b[0m\u001b[0m\n\u001b[0m\u001b[1;32m    203\u001b[0m \u001b[0;34m\u001b[0m\u001b[0m\n\u001b[1;32m    204\u001b[0m \u001b[0;31m# Appease the type checker; ordinarily this binding is inserted by the\u001b[0m\u001b[0;34m\u001b[0m\u001b[0;34m\u001b[0m\u001b[0m\n",
      "\u001b[0;31mImportError\u001b[0m: /home/mattia.toninelli/miniconda3/envs/intro_mldl/lib/python3.7/site-packages/torch/lib/libtorch_cuda_cpp.so: undefined symbol: cudaGraphRetainUserObject, version libcudart.so.11.0"
     ]
    }
   ],
   "source": [
    "# Test if GPU is available in torch. We may need to run this part on CPU because of hardware incompability\n",
    "import torch \n",
    "print('CUDA available: ', torch.cuda.is_available())\n",
    "print('PyTorch version: ', torch.__version__)\n",
    "\n",
    "# Assign correct device\n",
    "device = torch.device('cuda:0' if torch.cuda.is_available() else 'cpu')"
   ]
  },
  {
   "cell_type": "code",
   "execution_count": null,
   "id": "9fffea6e",
   "metadata": {},
   "outputs": [],
   "source": [
    "import torch.nn as nn\n",
    "import torch.nn.functional as F\n",
    "from torch.utils.data import TensorDataset, DataLoader\n",
    "from torchsummary import summary\n",
    "\n",
    "\n",
    "# Define hyperparameters\n",
    "epochs = 3\n",
    "batch_size = 64\n",
    "learning_rate = 1e-3\n",
    "\n",
    "# Let's convert numpy arrays to torch tensors and create a Dataset object. \n",
    "# Note, that we don't need to convert to one-hot, but we need to change the order of dimensions \n",
    "# to comply with torch convention [batch_size, channels, H, W]\n",
    "# tensor.permute is applied on a tensor and inputs new order of dimesions\n",
    "\n",
    "x_train_torch = torch.from_numpy(x_train).permute(0, 3, 1, 2)\n",
    "y_train_torch = torch.from_numpy(y_train)\n",
    "\n",
    "# Create a dataset object\n",
    "train_dataset = TensorDataset(x_train_torch, y_train_torch)\n",
    "\n",
    "# Define an iterable dataloader which allows batching\n",
    "train_dataloader = DataLoader(train_dataset, batch_size=batch_size)\n",
    "\n",
    "# Define a loss function \n",
    "loss_func = nn.CrossEntropyLoss()\n",
    "\n",
    "\n",
    "# Now let's define a model. PyTorch models and layers inherit from torch.nn.Module\n",
    "class MNIST_Classifier(nn.Module):\n",
    "    def __init__(self):\n",
    "        super(MNIST_Classifier, self).__init__()\n",
    "        \n",
    "        # Hint: You need to correct the number of channels in convolutional layers as you did with TensoFlow model above\n",
    "        # Note that you need to set input and output channels separately. \n",
    "        # You can also look at the output shapes in the torchsummary\n",
    "        self.conv1 = nn.Conv2d(in_channels=1, out_channels=1, kernel_size=(3, 3))\n",
    "        self.pool = nn.MaxPool2d(kernel_size=(2, 2))\n",
    "        \n",
    "        # Hint: Note that you need to set input and output channels separately and consecutive layers \n",
    "        # should have the same number of filters\n",
    "        self.conv2 = nn.Conv2d(in_channels=1, out_channels=32, kernel_size=(3, 3))\n",
    "        self.fc1 = nn.Linear(in_features=800, out_features=64)\n",
    "        self.fc2 = nn.Linear(in_features=64, out_features=10)\n",
    "    \n",
    "    def forward(self, x):\n",
    "        \n",
    "        # Layers are essentially functions. So here we sequantially apply those to the input. \n",
    "        # You can also use print(x.size()) after any step for debug\n",
    "        x = self.pool(F.relu(self.conv1(x)))\n",
    "        x = self.pool(F.relu(self.conv2(x)))\n",
    "        \n",
    "        # View operation reshapes tensor with -1 meaning all the remaining values will go to that dimension\n",
    "        x = x.view(-1, 32 * 5 * 5)\n",
    "        x = F.relu(self.fc1(x))\n",
    "        x = self.fc2(x)\n",
    "        return x\n",
    "\n",
    "\n",
    "# Create model instance and move it to GPU\n",
    "model = MNIST_Classifier()\n",
    "model.to(device)\n",
    "\n",
    "# Finally let's define an optimizer. Note that we need to provide parameters, \n",
    "# which will be optimized(in our case, all model parameters) and learning rate\n",
    "optimizer = torch.optim.Adam(model.parameters(), lr=learning_rate)\n",
    "\n",
    "# Visualize the model. PyTorch doesn't have an in-built model summary. \n",
    "# It's available via a separate torchsummary package. We provide the model itself and the shape of the input tensor\n",
    "summary(model, (1, 28, 28))"
   ]
  },
  {
   "cell_type": "markdown",
   "id": "a2f37f92",
   "metadata": {},
   "source": [
    "### Define a training loop and train the network...\n"
   ]
  },
  {
   "cell_type": "code",
   "execution_count": null,
   "id": "1c499047",
   "metadata": {},
   "outputs": [],
   "source": [
    "# Iterate over number of epochs\n",
    "for epoch in range(epochs):\n",
    "    train_loss_results = 0\n",
    "    train_accuracy_results = 0\n",
    "    \n",
    "    # Set model to train/eval mode is important for some layers(e.g. Dropout) to behave correctly\n",
    "    model.train()\n",
    "    print(f'\\n----- epoch {epoch} -----')\n",
    "    \n",
    "    # Iterate over the dataloader. Each iteration produces one batch of shape [batch_size, channels, H, W]\n",
    "    for data in train_dataloader:\n",
    "        inputs, labels = data\n",
    "        \n",
    "        # Move images and labels to correct device. This operation is only required for gpu training\n",
    "        inputs = inputs.to(device)\n",
    "        labels = labels.to(device)\n",
    "        \n",
    "        # Set the gradients of all tensors to zero \n",
    "        optimizer.zero_grad()\n",
    "        \n",
    "        # Compute forward pass(calling forward method of a model) for current batch\n",
    "        predictions = model(inputs)\n",
    "        \n",
    "        # Calculate the loss value \n",
    "        loss = loss_func(predictions, labels.long())\n",
    "        \n",
    "        # Compute the gradient of the loss function w.r.t every model parameter, that has requires_grad=True\n",
    "        loss.backward()\n",
    "        \n",
    "        # Update the parameters using the gradients\n",
    "        optimizer.step()\n",
    "        \n",
    "        # Accumulate loss values. We only store the number by calling .item()\n",
    "        train_loss_results += loss.item()\n",
    "        \n",
    "        # Accumulate accuracy by first taking the index of largest logit, \n",
    "        # comparing it with the ground truth labels and summing accross batch\n",
    "        train_accuracy_results += ((predictions.argmax(dim=1) == labels).sum().item())\n",
    "\n",
    "    print(f'Loss: {train_loss_results / len(train_dataloader)}')\n",
    "    print(f'Accuracy: {100 * train_accuracy_results / (batch_size * len(train_dataloader))}')\n",
    "                "
   ]
  },
  {
   "cell_type": "markdown",
   "id": "7913f1e9",
   "metadata": {},
   "source": [
    "### Super bonus exercise! Implement validation loop in PyTorch\n",
    "\n",
    "Usually, validation is done inside the training loop\n",
    "\n",
    "***Hint:*** Almost all the steps are analogous to the training loop, and there's no gradient calculation! "
   ]
  },
  {
   "cell_type": "code",
   "execution_count": null,
   "id": "a8ac9c88",
   "metadata": {},
   "outputs": [],
   "source": [
    "# Let's start with reshaping the tensors, as we did with the traning data\n",
    "x_test_torch = torch.from_numpy(x_test).permute(0, 3, 1, 2) \n",
    "y_test_torch = torch.from_numpy(y_test)\n",
    "\n",
    "test_dataset = TensorDataset(x_test_torch, y_test_torch)\n",
    "\n",
    "###########################################################################\n",
    "#######                   START OF YOUR CODE                        #######\n",
    "###########################################################################\n",
    "\n",
    "\n",
    "# Define an iterable dataloader which allows batching\n",
    "test_dataloader = ....\n",
    "\n",
    "test_loss_results = 0\n",
    "test_accuracy_results = 0 \n",
    "    \n",
    "# This context manager is needed to disable gradient calculation for  \n",
    "with torch.no_grad():\n",
    "    for test_data in ....:\n",
    "        test_inputs, test_labels = test_data\n",
    "        test_inputs = test_inputs.to(device)\n",
    "        test_labels = test_labels.to(device)\n",
    "\n",
    "        # Compute forward pass\n",
    "        test_predictions = ....\n",
    "\n",
    "        # Calculate loss value\n",
    "        test_loss = ....\n",
    "\n",
    "        test_loss_results += ....\n",
    "        test_accuracy_results += ....\n",
    "\n",
    "    print(f'Loss: {test_loss_results / len(test_dataloader)}')\n",
    "    print(f'Accuracy: {100 * test_accuracy_results / (batch_size * len(test_dataloader))}')\n",
    "        \n",
    "\n",
    "###########################################################################\n",
    "#######                    END OF YOUR CODE                         #######\n",
    "###########################################################################"
   ]
  },
  {
   "cell_type": "markdown",
   "id": "bb5ad72d",
   "metadata": {},
   "source": [
    "### Congratulations! You've made it to the end "
   ]
  }
 ],
 "metadata": {
  "kernelspec": {
   "display_name": "Python 3 (ipykernel)",
   "language": "python",
   "name": "python3"
  },
  "language_info": {
   "codemirror_mode": {
    "name": "ipython",
    "version": 3
   },
   "file_extension": ".py",
   "mimetype": "text/x-python",
   "name": "python",
   "nbconvert_exporter": "python",
   "pygments_lexer": "ipython3",
   "version": "3.7.0"
  }
 },
 "nbformat": 4,
 "nbformat_minor": 5
}
